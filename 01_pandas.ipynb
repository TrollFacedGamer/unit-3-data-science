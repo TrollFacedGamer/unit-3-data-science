{
 "cells": [
  {
   "cell_type": "markdown",
   "metadata": {},
   "source": [
    "## Lab 03.01 - Introduction to Pandas and Data Operations\n",
    "In this lab, you'll learn how to use the pandas library to analyze real-world sales data. By the end of this lab, you'll be comfortable with the fundamental operations in pandas."
   ]
  },
  {
   "cell_type": "markdown",
   "metadata": {
    "vscode": {
     "languageId": "plaintext"
    }
   },
   "source": [
    "### Part 0 - Intro to Pandas\n",
    "Before we dive into using pandas, let's understand what it is and why it's important in data science.\n",
    "\n",
    "To answer the questions, edit the markdown cell and put your answer below the question. \n",
    "\n",
    "**Make sure to save the markdown cell, by pressing the ✓ (check) icon in the top right after answering the questions**\n",
    "\n",
    "Research and critically think about the following questions:"
   ]
  },
  {
   "attachments": {},
   "cell_type": "markdown",
   "metadata": {},
   "source": [
    "##### Question 00\n",
    "What is Pandas, and what are its primary functions in data visualization for data science?\n",
    "- **Answer:**\n",
    "Pandas is a Python library buit on top of the matplotlib library that is used to process data. Pandas provide what matplotlib plot provide addition to some of its own data structures and data analysis tools\n",
    "\n",
    "##### Question 01\n",
    "What does \"data manipulation\" mean in the context of pandas and data science field?\n",
    "- **Answer:**\n",
    "\"data manipulation\" mean in the context of pandas and data science field means to process datat in a way that it becomes easier to read.\n",
    "\n",
    "##### Question 02\n",
    "What kind of files can pandas read? List at least 3:\n",
    "- **Answer:**\n",
    "1. csv\n",
    "2. excel\n",
    "3. sql"
   ]
  },
  {
   "cell_type": "markdown",
   "metadata": {},
   "source": [
    "#### 0.0 - Hands-On Exploration\n",
    "Let's start by importing pandas and exploring its basic functionality. Type these commands and write down what you observe:\n",
    "\n",
    "First, let's install the matplotlib library, in your terminal run the following command:\n",
    "\n",
    "```bash\n",
    "pip3 install pandas\n",
    "```\n",
    "\n",
    "Once installed, let's start by importing pandas and exploring its basic functionality. "
   ]
  },
  {
   "cell_type": "code",
   "execution_count": 2,
   "metadata": {},
   "outputs": [],
   "source": [
    "import pandas as pd"
   ]
  },
  {
   "cell_type": "markdown",
   "metadata": {},
   "source": [
    "Now lets run create a list, and see what happens when we use it with pandas."
   ]
  },
  {
   "cell_type": "code",
   "execution_count": 3,
   "metadata": {},
   "outputs": [
    {
     "name": "stdout",
     "output_type": "stream",
     "text": [
      "0    1\n",
      "1    2\n",
      "2    3\n",
      "3    4\n",
      "4    5\n",
      "dtype: int64\n"
     ]
    }
   ],
   "source": [
    "# Create a simple list of numbers\n",
    "numbers = [1, 2, 3, 4, 5]\n",
    "\n",
    "# Convert it to a pandas Series\n",
    "series = pd.Series(numbers)\n",
    "\n",
    "# Print the result\n",
    "print(series)"
   ]
  },
  {
   "attachments": {},
   "cell_type": "markdown",
   "metadata": {},
   "source": [
    "##### Question 03\n",
    "What did you notice about the output format?\n",
    "- **Answer:**\n",
    "I notice that the output is in a 2 column table format with 5 rows corrsponding to the 5 numbers in the list.\n",
    "##### Question 04\n",
    "How is this different from a regular Python list? What are the numbers on the left side?\n",
    "- **Answer:**\n",
    "This is different from a regular list in that the index is displayed in the left column along side the value of the index in the second column."
   ]
  },
  {
   "cell_type": "markdown",
   "metadata": {},
   "source": [
    "### Part 1 - Reading and Exploring Data\n",
    "\n",
    "#### 01.00 - Loading Data\n",
    "Let's start by loading our sales data that you downloaded alongside this lab. In pandas, we can read various file formats, but CSV (Comma-Separated Values) is one of the most common."
   ]
  },
  {
   "cell_type": "code",
   "execution_count": 4,
   "metadata": {},
   "outputs": [],
   "source": [
    "sales_df = pd.read_csv('sales_data.csv')"
   ]
  },
  {
   "cell_type": "markdown",
   "metadata": {},
   "source": [
    "When using pandas to load data, in ingests it into what is known as a \"dataframe\", this allows us to do advanced manipulation."
   ]
  },
  {
   "cell_type": "markdown",
   "metadata": {},
   "source": [
    "#### 01.01 - Viewing Data Samples\n",
    "Let's explore the fundamental methods for understanding our data structure and content. We'll look at each method individually and understand what it tells us about our data."
   ]
  },
  {
   "cell_type": "code",
   "execution_count": 7,
   "metadata": {},
   "outputs": [
    {
     "name": "stdout",
     "output_type": "stream",
     "text": [
      "          Date         Product         Category    Price  Units    Total  \\\n",
      "0   2023-01-01        Notebook  Office Supplies    18.33      2    35.56   \n",
      "1   2023-01-01          Laptop      Electronics  1943.35      4  7773.40   \n",
      "2   2023-01-01          Tablet      Electronics   436.05      2   872.10   \n",
      "3   2023-01-01       USB Drive      Accessories   116.48      3   349.44   \n",
      "4   2023-01-01         Pen Set  Office Supplies    42.14      4   168.56   \n",
      "5   2023-01-01         Pen Set  Office Supplies    26.14      4    90.97   \n",
      "6   2023-01-01      Laptop Bag      Accessories    94.14      3   245.71   \n",
      "7   2023-01-01         Pen Set  Office Supplies    46.51      3   139.53   \n",
      "8   2023-01-01            Lamp        Furniture   353.09      5  1518.29   \n",
      "9   2023-01-01      Smartwatch      Electronics   893.71      3  2681.13   \n",
      "10  2023-01-01          Laptop      Electronics   802.12      3  2093.53   \n",
      "11  2023-01-01   Monitor Stand      Accessories    71.68      5   358.40   \n",
      "12  2023-01-02  Desk Organizer  Office Supplies    17.15      5    85.75   \n",
      "13  2023-01-02      Smartphone      Electronics   687.98      3  2063.94   \n",
      "14  2023-01-02         Stapler  Office Supplies    24.32      3    72.96   \n",
      "15  2023-01-02        Notebook  Office Supplies    31.67      1    31.67   \n",
      "16  2023-01-02      Smartwatch      Electronics   507.91      4  2031.64   \n",
      "17  2023-01-02            Lamp        Furniture   390.69      3  1160.35   \n",
      "18  2023-01-02            Desk        Furniture   173.22      3   504.07   \n",
      "19  2023-01-02       USB Drive      Accessories   122.02      2   236.72   \n",
      "\n",
      "    Discount Region          Sales_Rep Payment_Method Customer_Segment  \n",
      "0       0.03  South       Sarah Wilson     Debit Card   Small Business  \n",
      "1       0.00  North         John Smith     Debit Card   Small Business  \n",
      "2       0.00   East        David Brown  Bank Transfer       Government  \n",
      "3       0.00   East      Lisa Anderson         PayPal       Individual  \n",
      "4       0.00   East        David Brown     Debit Card        Corporate  \n",
      "5       0.13   West  Jennifer Martinez  Bank Transfer        Corporate  \n",
      "6       0.13  South       Sarah Wilson         PayPal        Corporate  \n",
      "7       0.00   East        David Brown         PayPal   Small Business  \n",
      "8       0.14  North         Emma Davis     Debit Card       Individual  \n",
      "9       0.00   West  Jennifer Martinez         PayPal       Government  \n",
      "10      0.13   West  Jennifer Martinez     Debit Card       Individual  \n",
      "11      0.00   East        David Brown     Debit Card        Corporate  \n",
      "12      0.00   East        David Brown     Debit Card       Government  \n",
      "13      0.00   West      Robert Taylor  Bank Transfer   Small Business  \n",
      "14      0.00   West      Robert Taylor         PayPal        Corporate  \n",
      "15      0.00  South    Michael Johnson     Debit Card   Small Business  \n",
      "16      0.00   East        David Brown  Bank Transfer        Corporate  \n",
      "17      0.01  North         Emma Davis    Credit Card       Individual  \n",
      "18      0.03   East      Lisa Anderson     Debit Card   Small Business  \n",
      "19      0.03   East      Lisa Anderson  Bank Transfer        Corporate  \n"
     ]
    }
   ],
   "source": [
    "print(sales_df.head(20))"
   ]
  },
  {
   "cell_type": "code",
   "execution_count": 6,
   "metadata": {},
   "outputs": [
    {
     "name": "stdout",
     "output_type": "stream",
     "text": [
      "            Date       Product         Category    Price  Units    Total  \\\n",
      "3766  2023-12-31    Smartwatch      Electronics  1730.72      2  3461.44   \n",
      "3767  2023-12-31          Desk        Furniture   462.57      1   462.57   \n",
      "3768  2023-12-31        Laptop      Electronics   560.79      2  1121.58   \n",
      "3769  2023-12-31  Office Chair        Furniture   116.04      2   232.08   \n",
      "3770  2023-12-31      Notebook  Office Supplies    18.15      4    72.60   \n",
      "\n",
      "      Discount Region        Sales_Rep Payment_Method Customer_Segment  \n",
      "3766       0.0  South  Michael Johnson     Debit Card       Individual  \n",
      "3767       0.0  North       John Smith     Debit Card       Government  \n",
      "3768       0.0   East      David Brown     Debit Card   Small Business  \n",
      "3769       0.0  North       Emma Davis    Credit Card        Corporate  \n",
      "3770       0.0  North       Emma Davis         PayPal       Individual  \n"
     ]
    }
   ],
   "source": [
    "print(sales_df.tail())"
   ]
  },
  {
   "attachments": {},
   "cell_type": "markdown",
   "metadata": {},
   "source": [
    "##### Question 04\n",
    "What is the difference between the `tail()` and `head()` commands? What would be use of either command be?\n",
    "- **Answer:**\n",
    "`tail()` prints the data of the first 5 samples and can be used to view the first 5 data samples in a data set. `head()` prints the data of the last 5 samples and can be used to view the last 5 data samples in a data set. Both are ordered from top to bottom.\n",
    "\n",
    "##### Question 05\n",
    "What happens when you put a number in the `head()` function? What changed?\n",
    "- **Answer:**\n",
    "When you put a number in the `head()` function the head function will print a amount of data samples equal to the number place in the ()."
   ]
  },
  {
   "cell_type": "markdown",
   "metadata": {},
   "source": [
    "#### 01.02 - Understanding DataFrame Structure\n",
    "Let's examine the basic properties of our DataFrame:"
   ]
  },
  {
   "cell_type": "code",
   "execution_count": 8,
   "metadata": {},
   "outputs": [
    {
     "name": "stdout",
     "output_type": "stream",
     "text": [
      "Index(['Date', 'Product', 'Category', 'Price', 'Units', 'Total', 'Discount',\n",
      "       'Region', 'Sales_Rep', 'Payment_Method', 'Customer_Segment'],\n",
      "      dtype='object')\n"
     ]
    }
   ],
   "source": [
    "print(sales_df.columns)"
   ]
  },
  {
   "cell_type": "code",
   "execution_count": 9,
   "metadata": {},
   "outputs": [
    {
     "name": "stdout",
     "output_type": "stream",
     "text": [
      "Date                 object\n",
      "Product              object\n",
      "Category             object\n",
      "Price               float64\n",
      "Units                 int64\n",
      "Total               float64\n",
      "Discount            float64\n",
      "Region               object\n",
      "Sales_Rep            object\n",
      "Payment_Method       object\n",
      "Customer_Segment     object\n",
      "dtype: object\n"
     ]
    }
   ],
   "source": [
    "print(sales_df.dtypes)"
   ]
  },
  {
   "attachments": {},
   "cell_type": "markdown",
   "metadata": {},
   "source": [
    "##### Question 06\n",
    "Compare and contrast the outputs of the `columns` and `dtypes` properties. What is similar what is different?\n",
    "- **Answer:**\n",
    "Both `columns` and `dtypes` outs information on the columns, but`columns`  outputs a list name of the columns, and `dtypes` out put the name of the colums and the data type they store.\n",
    "\n",
    "##### Question 07\n",
    "What data type is the 'Date' column? Is this what you expected? \n",
    "- **Answer:**\n",
    "\n",
    "##### Question 08\n",
    "Why might pandas choose different data types for different columns?\n",
    "- **Answer:**"
   ]
  },
  {
   "cell_type": "markdown",
   "metadata": {},
   "source": [
    "#### 01.03 - Data Information Summary\n",
    "The `info()` method provides a concise summary of our DataFrame:"
   ]
  },
  {
   "cell_type": "code",
   "execution_count": null,
   "metadata": {},
   "outputs": [],
   "source": [
    "print(sales_df.info())"
   ]
  },
  {
   "cell_type": "markdown",
   "metadata": {},
   "source": [
    "##### Question 09\n",
    "What information does `info()` tell us, how could this information be useful?\n",
    "- **Answer:**\n",
    "\n",
    "##### Question 10\n",
    "How much memory is our DataFrame using? \n",
    "- **Answer:**\n",
    "\n",
    "##### Question 11\n",
    "What does \"null\" mean? What impact could having \"null\" values in a dataset?\n",
    "- **Answer:**"
   ]
  },
  {
   "cell_type": "markdown",
   "metadata": {},
   "source": [
    "#### 01.04 - Numerical Summaries\n",
    "The `describe()` method provides statistical summaries for numerical columns:"
   ]
  },
  {
   "cell_type": "code",
   "execution_count": null,
   "metadata": {},
   "outputs": [],
   "source": [
    "print(sales_df.describe())"
   ]
  },
  {
   "cell_type": "markdown",
   "metadata": {},
   "source": [
    "##### Question 12\n",
    "What statistics does the `describe()` function give us?\n",
    "- **Answer:**\n",
    "\n",
    "##### Question 13\n",
    "Which columns did the `describe()` function perform statistics on? Why? (Hint: why didnt we see 'Product' in the output?)\n",
    "- **Answer:**"
   ]
  },
  {
   "cell_type": "code",
   "execution_count": null,
   "metadata": {},
   "outputs": [],
   "source": [
    "print(sales_df[['Price', 'Units']].describe())"
   ]
  },
  {
   "cell_type": "markdown",
   "metadata": {},
   "source": [
    "##### Question 14\n",
    "What is different in the codeblock above compared to the previous one. How did this affect the output?\n",
    "- **Answer:**"
   ]
  },
  {
   "cell_type": "code",
   "execution_count": null,
   "metadata": {},
   "outputs": [],
   "source": [
    "print(sales_df['Category'].unique())"
   ]
  },
  {
   "cell_type": "markdown",
   "metadata": {},
   "source": [
    "##### Question 15\n",
    "How many unique product categories are in our data set?\n",
    "- **Answer:**"
   ]
  },
  {
   "cell_type": "code",
   "execution_count": null,
   "metadata": {},
   "outputs": [],
   "source": [
    "print(\"Output 1:\")\n",
    "print(sales_df['Category'].value_counts())\n",
    "\n",
    "print('')\n",
    "print('')\n",
    "\n",
    "print(\"Output 2:\")\n",
    "print(sales_df['Category'].value_counts(normalize=True))"
   ]
  },
  {
   "cell_type": "markdown",
   "metadata": {},
   "source": [
    "##### Question 16\n",
    "What is the difference between the two outputs?\n",
    "- **Answer:**\n",
    "\n",
    "##### Question 17\n",
    "What is our most common product category?\n",
    "- **Answer:**"
   ]
  },
  {
   "attachments": {},
   "cell_type": "markdown",
   "metadata": {},
   "source": [
    "##### Excercise 00\n",
    "Using what you've learned, create a code cell direclty below this one to answer these questions:\n",
    "\n",
    "- What is the date range of our sales data? (Hint: try `min()` and `max()` functions)\n",
    "- How many unique products do we sell?\n",
    "- What is our most common payment method?"
   ]
  },
  {
   "cell_type": "markdown",
   "metadata": {},
   "source": [
    "### Part 2 - Data Selection and Filtering\n",
    "\n",
    "#### 02.01 - Column Selection\n",
    "There are multiple ways to select columns in pandas. Let's explore them:"
   ]
  },
  {
   "cell_type": "code",
   "execution_count": null,
   "metadata": {},
   "outputs": [],
   "source": [
    "# Select single column\n",
    "prices = sales_df['Price']\n",
    "\n",
    "# Select multiple columns\n",
    "product_info = sales_df[['Product', 'Price', 'Units']]"
   ]
  },
  {
   "cell_type": "markdown",
   "metadata": {},
   "source": [
    "##### Question 17\n",
    "Compare and contrast how we select multiple columns vs a single column.\n",
    "- **Answer:**"
   ]
  },
  {
   "cell_type": "markdown",
   "metadata": {},
   "source": [
    "##### Excercise 01\n",
    "Using what you've learned, create a code cell direclty below this one to select the 'Region' and 'Category' columns and store them in a variable called 'location_data'."
   ]
  },
  {
   "cell_type": "markdown",
   "metadata": {},
   "source": [
    "#### 02.01 - Filtering Data\n",
    "Let's learn how to filter our data based on conditions:"
   ]
  },
  {
   "cell_type": "code",
   "execution_count": null,
   "metadata": {},
   "outputs": [],
   "source": [
    "expensive_items = sales_df[sales_df['Price'] > 500]\n",
    "\n",
    "north_sales = sales_df[sales_df['Region'] == 'North']\n",
    "\n",
    "print(\"Expensive items:\")\n",
    "print(expensive_items)\n",
    "print(\"\\nNorth region sales:\")\n",
    "print(north_sales)"
   ]
  },
  {
   "cell_type": "markdown",
   "metadata": {},
   "source": [
    "##### Question 18\n",
    "What is `sales_df['Price'] > 500` accomplishing in our code? How might we use this in data science workflows?\n",
    "- **Answer:**\n",
    "\n",
    "##### Question 19\n",
    "What logic operator would we use to combine multiple conditonals when filtering columns?\n",
    "- **Answer:**"
   ]
  },
  {
   "cell_type": "markdown",
   "metadata": {},
   "source": [
    "##### Excercise 02\n",
    "Using what you've learned, create a code cell direclty below this one to create the following filters:\n",
    "- The number of units sold was greater than 5\n",
    "- The product category is 'Electronics'"
   ]
  },
  {
   "cell_type": "markdown",
   "metadata": {},
   "source": [
    "#### Part 3 - Final Summary\n",
    "Use your experience completing this lab, and the code block below to answer the following summary questions\n",
    "\n",
    "##### Question 20\n",
    "In your own words, explain what pandas is and why it's useful for data analysis:\n",
    "- **Answer:**\n",
    "\n",
    "##### Question 21\n",
    "How many unique products are in the dataset?\n",
    "- **Answer:**\n",
    "\n",
    "##### Question 22\n",
    "What was the most popular product category in the `North` region? \n",
    "- **Answer:**"
   ]
  },
  {
   "cell_type": "code",
   "execution_count": null,
   "metadata": {},
   "outputs": [],
   "source": []
  }
 ],
 "metadata": {
  "kernelspec": {
   "display_name": "Python 3",
   "language": "python",
   "name": "python3"
  },
  "language_info": {
   "codemirror_mode": {
    "name": "ipython",
    "version": 3
   },
   "file_extension": ".py",
   "mimetype": "text/x-python",
   "name": "python",
   "nbconvert_exporter": "python",
   "pygments_lexer": "ipython3",
   "version": "3.10.8"
  },
  "vscode": {
   "interpreter": {
    "hash": "b0fa6594d8f4cbf19f97940f81e996739fb7646882a419484c72d19e05852a7e"
   }
  }
 },
 "nbformat": 4,
 "nbformat_minor": 2
}
